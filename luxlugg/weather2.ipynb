{
 "cells": [
  {
   "cell_type": "code",
   "execution_count": 2,
   "metadata": {},
   "outputs": [],
   "source": [
    "import requests\n",
    "import pandas as pd"
   ]
  },
  {
   "cell_type": "code",
   "execution_count": 39,
   "metadata": {},
   "outputs": [],
   "source": [
    "def weather_function(x):\n",
    "    series=pd.Series(x)\n",
    "    data1=pd.DataFrame(series['list'])\n",
    "    data1=data1[['main','weather','dt_txt']]\n",
    "    data2=pd.DataFrame(series['city'])  \n",
    "    data2=data2[['name','country']]\n",
    "    data2=data2.T\n",
    "    data2=data2['lat']\n",
    "    main=pd.json_normalize(data1['main'])\n",
    "    weather=pd.json_normalize(data1['weather'])\n",
    "    weather=pd.json_normalize(weather[0])\n",
    "    data3=pd.concat([weather,main], axis=1)\n",
    "    data3['city']=[data2['name'] for el in range(0,len(data3))]\n",
    "    data3=data3[['main', 'temp', 'city']]\n",
    "    data3=pd.concat([data3,data1['dt_txt']], axis=1)\n",
    "    data3['temp_celsius']=[el-(272.15) for el in data3['temp']]\n",
    "    data3=data3[data3['dt_txt'].str.contains('12')]\n",
    "    return data3"
   ]
  },
  {
   "cell_type": "code",
   "execution_count": 40,
   "metadata": {},
   "outputs": [],
   "source": [
    "def weather_api(city):\n",
    "    parameters={'q':city,\n",
    "    'appid':'848d0de82969372b0eb09e4c7106d12f'}\n",
    "    url='https://api.openweathermap.org/data/2.5/forecast'\n",
    "    response=requests.get(url=url, params=parameters)\n",
    "    x=response.json()\n",
    "    dataf = weather_function(x)\n",
    "    return dataf\n",
    "   "
   ]
  },
  {
   "cell_type": "code",
   "execution_count": 41,
   "metadata": {},
   "outputs": [
    {
     "data": {
      "text/html": [
       "<div>\n",
       "<style scoped>\n",
       "    .dataframe tbody tr th:only-of-type {\n",
       "        vertical-align: middle;\n",
       "    }\n",
       "\n",
       "    .dataframe tbody tr th {\n",
       "        vertical-align: top;\n",
       "    }\n",
       "\n",
       "    .dataframe thead th {\n",
       "        text-align: right;\n",
       "    }\n",
       "</style>\n",
       "<table border=\"1\" class=\"dataframe\">\n",
       "  <thead>\n",
       "    <tr style=\"text-align: right;\">\n",
       "      <th></th>\n",
       "      <th>main</th>\n",
       "      <th>temp</th>\n",
       "      <th>city</th>\n",
       "      <th>dt_txt</th>\n",
       "      <th>temp_celsius</th>\n",
       "    </tr>\n",
       "  </thead>\n",
       "  <tbody>\n",
       "    <tr>\n",
       "      <th>6</th>\n",
       "      <td>Rain</td>\n",
       "      <td>291.73</td>\n",
       "      <td>Lisbon</td>\n",
       "      <td>2022-10-20 12:00:00</td>\n",
       "      <td>19.58</td>\n",
       "    </tr>\n",
       "    <tr>\n",
       "      <th>14</th>\n",
       "      <td>Rain</td>\n",
       "      <td>292.97</td>\n",
       "      <td>Lisbon</td>\n",
       "      <td>2022-10-21 12:00:00</td>\n",
       "      <td>20.82</td>\n",
       "    </tr>\n",
       "    <tr>\n",
       "      <th>22</th>\n",
       "      <td>Rain</td>\n",
       "      <td>291.38</td>\n",
       "      <td>Lisbon</td>\n",
       "      <td>2022-10-22 12:00:00</td>\n",
       "      <td>19.23</td>\n",
       "    </tr>\n",
       "    <tr>\n",
       "      <th>30</th>\n",
       "      <td>Clouds</td>\n",
       "      <td>292.83</td>\n",
       "      <td>Lisbon</td>\n",
       "      <td>2022-10-23 12:00:00</td>\n",
       "      <td>20.68</td>\n",
       "    </tr>\n",
       "    <tr>\n",
       "      <th>38</th>\n",
       "      <td>Rain</td>\n",
       "      <td>293.42</td>\n",
       "      <td>Lisbon</td>\n",
       "      <td>2022-10-24 12:00:00</td>\n",
       "      <td>21.27</td>\n",
       "    </tr>\n",
       "  </tbody>\n",
       "</table>\n",
       "</div>"
      ],
      "text/plain": [
       "      main    temp    city               dt_txt  temp_celsius\n",
       "6     Rain  291.73  Lisbon  2022-10-20 12:00:00         19.58\n",
       "14    Rain  292.97  Lisbon  2022-10-21 12:00:00         20.82\n",
       "22    Rain  291.38  Lisbon  2022-10-22 12:00:00         19.23\n",
       "30  Clouds  292.83  Lisbon  2022-10-23 12:00:00         20.68\n",
       "38    Rain  293.42  Lisbon  2022-10-24 12:00:00         21.27"
      ]
     },
     "execution_count": 41,
     "metadata": {},
     "output_type": "execute_result"
    }
   ],
   "source": [
    "weather_api('Lisbon')"
   ]
  },
  {
   "cell_type": "code",
   "execution_count": null,
   "metadata": {},
   "outputs": [],
   "source": []
  }
 ],
 "metadata": {
  "kernelspec": {
   "display_name": "Python 3.10.4 ('ironhack')",
   "language": "python",
   "name": "python3"
  },
  "language_info": {
   "codemirror_mode": {
    "name": "ipython",
    "version": 3
   },
   "file_extension": ".py",
   "mimetype": "text/x-python",
   "name": "python",
   "nbconvert_exporter": "python",
   "pygments_lexer": "ipython3",
   "version": "3.10.4"
  },
  "orig_nbformat": 4,
  "vscode": {
   "interpreter": {
    "hash": "17049154c232aaef07601ea239ee81a82f60cd9eb17f0fdc7e8387d4eb28090a"
   }
  }
 },
 "nbformat": 4,
 "nbformat_minor": 2
}
